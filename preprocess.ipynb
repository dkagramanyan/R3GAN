{
 "cells": [
  {
   "cell_type": "code",
   "execution_count": null,
   "id": "1afce0eb",
   "metadata": {},
   "outputs": [
    {
     "name": "stdout",
     "output_type": "stream",
     "text": [
      "Processed 6 images. Saved to: /media/david/work_ssd_2_sata/python/R3GAN/runs/4_a100_6_days/slices_r0c0\n"
     ]
    }
   ],
   "source": [
    "from pathlib import Path\n",
    "from PIL import Image\n",
    "\n",
    "# Process every 8th image and slice the top-left 256x256 cell\n",
    "STEP = 8\n",
    "SUB_W = 256\n",
    "SUB_H = 256\n",
    "\n",
    "base_dir = Path('/media/david/work_ssd_2_sata/python/R3GAN/runs/4_a100_6_days')\n",
    "if not base_dir.exists():\n",
    "    raise FileNotFoundError(f\"Image folder not found: {base_dir}\")\n",
    "\n",
    "\n",
    "def slice_top_left_cell_256(image: Image.Image, sub_w: int = SUB_W, sub_h: int = SUB_H) -> Image.Image:\n",
    "    # Ensure the crop doesn't exceed bounds\n",
    "    crop_w = min(sub_w, image.width)\n",
    "    crop_h = min(sub_h, image.height)\n",
    "    return image.crop((0, 0, crop_w, crop_h))\n",
    "\n",
    "\n",
    "# Collect images and process every Nth (STEP)\n",
    "image_paths = sorted([p for p in base_dir.iterdir() if p.suffix.lower() in {'.png', '.jpg', '.jpeg'}])\n",
    "selected_paths = image_paths[::STEP]\n",
    "\n",
    "out_dir = base_dir / 'slices_r0c0'\n",
    "out_dir.mkdir(exist_ok=True)\n",
    "\n",
    "processed = 0\n",
    "\n",
    "for img_path in selected_paths:\n",
    "    with Image.open(img_path) as img:\n",
    "        sub = slice_top_left_cell_256(img)\n",
    "        out_path = out_dir / f\"{img_path.stem}_r0c0{img_path.suffix}\"\n",
    "        sub.save(out_path)\n",
    "        processed += 1\n",
    "\n",
    "print(f\"Processed {processed} images. Saved to: {out_dir}\")\n",
    "\n"
   ]
  }
 ],
 "metadata": {
  "kernelspec": {
   "display_name": "torch",
   "language": "python",
   "name": "torch"
  },
  "language_info": {
   "codemirror_mode": {
    "name": "ipython",
    "version": 3
   },
   "file_extension": ".py",
   "mimetype": "text/x-python",
   "name": "python",
   "nbconvert_exporter": "python",
   "pygments_lexer": "ipython3",
   "version": "3.12.11"
  }
 },
 "nbformat": 4,
 "nbformat_minor": 5
}
