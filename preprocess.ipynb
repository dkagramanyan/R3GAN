{
 "cells": [
  {
   "cell_type": "code",
   "execution_count": null,
   "id": "1afce0eb",
   "metadata": {},
   "outputs": [
    {
     "name": "stdout",
     "output_type": "stream",
     "text": [
      "Processed 6 images. Saved to: /media/david/work_ssd_2_sata/python/R3GAN/runs/4_a100_6_days/slices_r0c0\n"
     ]
    }
   ],
   "source": [
    "from pathlib import Path\n",
    "from PIL import Image\n",
    "\n",
    "# Process every 8th image and slice the top-left 256x256 cell\n",
    "STEP = 8\n",
    "SUB_W = 256\n",
    "SUB_H = 256\n",
    "\n",
    "base_dir = Path('/media/david/work_ssd_2_sata/python/R3GAN/runs/4_a100_6_days')\n",
    "if not base_dir.exists():\n",
    "    raise FileNotFoundError(f\"Image folder not found: {base_dir}\")\n",
    "\n",
    "\n",
    "def slice_top_left_cell_256(image: Image.Image, sub_w: int = SUB_W, sub_h: int = SUB_H) -> Image.Image:\n",
    "    # Ensure the crop doesn't exceed bounds\n",
    "    crop_w = min(sub_w, image.width)\n",
    "    crop_h = min(sub_h, image.height)\n",
    "    return image.crop((0, 0, crop_w, crop_h))\n",
    "\n",
    "\n",
    "# Collect images and process every Nth (STEP)\n",
    "image_paths = sorted([p for p in base_dir.iterdir() if p.suffix.lower() in {'.png', '.jpg', '.jpeg'}])\n",
    "selected_paths = image_paths[::STEP]\n",
    "\n",
    "out_dir = base_dir / 'slices_r0c0'\n",
    "out_dir.mkdir(exist_ok=True)\n",
    "\n",
    "processed = 0\n",
    "\n",
    "for img_path in selected_paths:\n",
    "    with Image.open(img_path) as img:\n",
    "        sub = slice_top_left_cell_256(img)\n",
    "        out_path = out_dir / f\"{img_path.stem}_r0c0{img_path.suffix}\"\n",
    "        sub.save(out_path)\n",
    "        processed += 1\n",
    "\n",
    "print(f\"Processed {processed} images. Saved to: {out_dir}\")\n",
    "\n"
   ]
  },
  {
   "cell_type": "code",
   "execution_count": 8,
   "id": "b42f4d63",
   "metadata": {},
   "outputs": [
    {
     "name": "stdout",
     "output_type": "stream",
     "text": [
      "Processed 23 fake images (every 2th). Saved to: /media/david/work_ssd_2_sata/python/R3GAN/runs/4_a100_6_days/slices_r0c0_fakes\n"
     ]
    }
   ],
   "source": [
    "from pathlib import Path\n",
    "from PIL import Image\n",
    "\n",
    "# Parameters\n",
    "STEP = 2\n",
    "CELL_W = 256\n",
    "CELL_H = 256\n",
    "\n",
    "base_dir = Path('/media/david/work_ssd_2_sata/python/R3GAN/runs/4_a100_6_days')\n",
    "if not base_dir.exists():\n",
    "    raise FileNotFoundError(f\"Image folder not found: {base_dir}\")\n",
    "\n",
    "\n",
    "def slice_grid_cell(image: Image.Image, row: int = 0, col: int = 0, cell_w: int = CELL_W, cell_h: int = CELL_H) -> Image.Image:\n",
    "    \"\"\"Return the (row, col) 256x256 tile; defaults to top-left (0,0).\"\"\"\n",
    "    left = col * cell_w\n",
    "    upper = row * cell_h\n",
    "    right = min(left + cell_w, image.width)\n",
    "    lower = min(upper + cell_h, image.height)\n",
    "    return image.crop((left, upper, right, lower))\n",
    "\n",
    "\n",
    "def is_fake_image(path: Path) -> bool:\n",
    "    \"\"\"True for files named like fakes*.png.\"\"\"\n",
    "    name = path.name.lower()\n",
    "    return name.startswith('fakes') and name.endswith('.png')\n",
    "\n",
    "\n",
    "# Collect only fake images and process every Nth\n",
    "image_paths = sorted(p for p in base_dir.iterdir() if p.is_file() and is_fake_image(p))\n",
    "selected_paths = image_paths[::STEP]\n",
    "\n",
    "out_dir = base_dir / 'slices_r0c0_fakes'\n",
    "out_dir.mkdir(exist_ok=True)\n",
    "\n",
    "processed = 0\n",
    "for img_path in selected_paths:\n",
    "    with Image.open(img_path) as img:\n",
    "        sub = slice_grid_cell(img, row=0, col=0)\n",
    "        out_path = out_dir / f\"{img_path.stem}_r0c0{img_path.suffix}\"\n",
    "        sub.save(out_path)\n",
    "        processed += 1\n",
    "\n",
    "print(f\"Processed {processed} fake images (every {STEP}th). Saved to: {out_dir}\")\n",
    "\n"
   ]
  }
 ],
 "metadata": {
  "kernelspec": {
   "display_name": "torch",
   "language": "python",
   "name": "torch"
  },
  "language_info": {
   "codemirror_mode": {
    "name": "ipython",
    "version": 3
   },
   "file_extension": ".py",
   "mimetype": "text/x-python",
   "name": "python",
   "nbconvert_exporter": "python",
   "pygments_lexer": "ipython3",
   "version": "3.12.11"
  }
 },
 "nbformat": 4,
 "nbformat_minor": 5
}
